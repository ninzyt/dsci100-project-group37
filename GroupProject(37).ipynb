{
 "cells": [
  {
   "cell_type": "markdown",
   "id": "8e5b4902-403c-4ea7-b05b-c4361b651e4b",
   "metadata": {},
   "source": [
    "# Data Science 100 Final Project Report"
   ]
  },
  {
   "cell_type": "code",
   "execution_count": 1,
   "id": "d47a4e34-e2ce-4801-990e-9dfc1c646f2a",
   "metadata": {},
   "outputs": [
    {
     "name": "stderr",
     "output_type": "stream",
     "text": [
      "── \u001b[1mAttaching core tidyverse packages\u001b[22m ──────────────────────── tidyverse 2.0.0 ──\n",
      "\u001b[32m✔\u001b[39m \u001b[34mdplyr    \u001b[39m 1.1.4     \u001b[32m✔\u001b[39m \u001b[34mreadr    \u001b[39m 2.1.5\n",
      "\u001b[32m✔\u001b[39m \u001b[34mforcats  \u001b[39m 1.0.0     \u001b[32m✔\u001b[39m \u001b[34mstringr  \u001b[39m 1.5.1\n",
      "\u001b[32m✔\u001b[39m \u001b[34mggplot2  \u001b[39m 3.5.1     \u001b[32m✔\u001b[39m \u001b[34mtibble   \u001b[39m 3.2.1\n",
      "\u001b[32m✔\u001b[39m \u001b[34mlubridate\u001b[39m 1.9.3     \u001b[32m✔\u001b[39m \u001b[34mtidyr    \u001b[39m 1.3.1\n",
      "\u001b[32m✔\u001b[39m \u001b[34mpurrr    \u001b[39m 1.0.2     \n",
      "── \u001b[1mConflicts\u001b[22m ────────────────────────────────────────── tidyverse_conflicts() ──\n",
      "\u001b[31m✖\u001b[39m \u001b[34mdplyr\u001b[39m::\u001b[32mfilter()\u001b[39m masks \u001b[34mstats\u001b[39m::filter()\n",
      "\u001b[31m✖\u001b[39m \u001b[34mdplyr\u001b[39m::\u001b[32mlag()\u001b[39m    masks \u001b[34mstats\u001b[39m::lag()\n",
      "\u001b[36mℹ\u001b[39m Use the conflicted package (\u001b[3m\u001b[34m<http://conflicted.r-lib.org/>\u001b[39m\u001b[23m) to force all conflicts to become errors\n",
      "── \u001b[1mAttaching packages\u001b[22m ────────────────────────────────────── tidymodels 1.1.1 ──\n",
      "\n",
      "\u001b[32m✔\u001b[39m \u001b[34mbroom       \u001b[39m 1.0.6     \u001b[32m✔\u001b[39m \u001b[34mrsample     \u001b[39m 1.2.1\n",
      "\u001b[32m✔\u001b[39m \u001b[34mdials       \u001b[39m 1.3.0     \u001b[32m✔\u001b[39m \u001b[34mtune        \u001b[39m 1.1.2\n",
      "\u001b[32m✔\u001b[39m \u001b[34minfer       \u001b[39m 1.0.7     \u001b[32m✔\u001b[39m \u001b[34mworkflows   \u001b[39m 1.1.4\n",
      "\u001b[32m✔\u001b[39m \u001b[34mmodeldata   \u001b[39m 1.4.0     \u001b[32m✔\u001b[39m \u001b[34mworkflowsets\u001b[39m 1.0.1\n",
      "\u001b[32m✔\u001b[39m \u001b[34mparsnip     \u001b[39m 1.2.1     \u001b[32m✔\u001b[39m \u001b[34myardstick   \u001b[39m 1.3.1\n",
      "\u001b[32m✔\u001b[39m \u001b[34mrecipes     \u001b[39m 1.1.0     \n",
      "\n",
      "── \u001b[1mConflicts\u001b[22m ───────────────────────────────────────── tidymodels_conflicts() ──\n",
      "\u001b[31m✖\u001b[39m \u001b[34mscales\u001b[39m::\u001b[32mdiscard()\u001b[39m masks \u001b[34mpurrr\u001b[39m::discard()\n",
      "\u001b[31m✖\u001b[39m \u001b[34mdplyr\u001b[39m::\u001b[32mfilter()\u001b[39m   masks \u001b[34mstats\u001b[39m::filter()\n",
      "\u001b[31m✖\u001b[39m \u001b[34mrecipes\u001b[39m::\u001b[32mfixed()\u001b[39m  masks \u001b[34mstringr\u001b[39m::fixed()\n",
      "\u001b[31m✖\u001b[39m \u001b[34mdplyr\u001b[39m::\u001b[32mlag()\u001b[39m      masks \u001b[34mstats\u001b[39m::lag()\n",
      "\u001b[31m✖\u001b[39m \u001b[34myardstick\u001b[39m::\u001b[32mspec()\u001b[39m masks \u001b[34mreadr\u001b[39m::spec()\n",
      "\u001b[31m✖\u001b[39m \u001b[34mrecipes\u001b[39m::\u001b[32mstep()\u001b[39m   masks \u001b[34mstats\u001b[39m::step()\n",
      "\u001b[34m•\u001b[39m Use suppressPackageStartupMessages() to eliminate package startup messages\n",
      "\n"
     ]
    }
   ],
   "source": [
    "#Loading the relevant R package:\n",
    "library(tidyverse)\n",
    "library(tidymodels)\n",
    "library(repr)\n",
    "library(themis)"
   ]
  },
  {
   "cell_type": "code",
   "execution_count": 2,
   "id": "675b0d9a-c6de-4c04-b4cc-c1dc0dd65144",
   "metadata": {},
   "outputs": [
    {
     "name": "stderr",
     "output_type": "stream",
     "text": [
      "\u001b[1mRows: \u001b[22m\u001b[34m196\u001b[39m \u001b[1mColumns: \u001b[22m\u001b[34m7\u001b[39m\n",
      "\u001b[36m──\u001b[39m \u001b[1mColumn specification\u001b[22m \u001b[36m────────────────────────────────────────────────────────\u001b[39m\n",
      "\u001b[1mDelimiter:\u001b[22m \",\"\n",
      "\u001b[31mchr\u001b[39m (4): experience, hashedEmail, name, gender\n",
      "\u001b[32mdbl\u001b[39m (2): played_hours, Age\n",
      "\u001b[33mlgl\u001b[39m (1): subscribe\n",
      "\n",
      "\u001b[36mℹ\u001b[39m Use `spec()` to retrieve the full column specification for this data.\n",
      "\u001b[36mℹ\u001b[39m Specify the column types or set `show_col_types = FALSE` to quiet this message.\n",
      "\u001b[1mRows: \u001b[22m\u001b[34m1535\u001b[39m \u001b[1mColumns: \u001b[22m\u001b[34m5\u001b[39m\n",
      "\u001b[36m──\u001b[39m \u001b[1mColumn specification\u001b[22m \u001b[36m────────────────────────────────────────────────────────\u001b[39m\n",
      "\u001b[1mDelimiter:\u001b[22m \",\"\n",
      "\u001b[31mchr\u001b[39m (3): hashedEmail, start_time, end_time\n",
      "\u001b[32mdbl\u001b[39m (2): original_start_time, original_end_time\n",
      "\n",
      "\u001b[36mℹ\u001b[39m Use `spec()` to retrieve the full column specification for this data.\n",
      "\u001b[36mℹ\u001b[39m Specify the column types or set `show_col_types = FALSE` to quiet this message.\n"
     ]
    },
    {
     "data": {
      "text/html": [
       "<table class=\"dataframe\">\n",
       "<caption>A tibble: 6 × 7</caption>\n",
       "<thead>\n",
       "\t<tr><th scope=col>experience</th><th scope=col>subscribe</th><th scope=col>hashedEmail</th><th scope=col>played_hours</th><th scope=col>name</th><th scope=col>gender</th><th scope=col>Age</th></tr>\n",
       "\t<tr><th scope=col>&lt;chr&gt;</th><th scope=col>&lt;lgl&gt;</th><th scope=col>&lt;chr&gt;</th><th scope=col>&lt;dbl&gt;</th><th scope=col>&lt;chr&gt;</th><th scope=col>&lt;chr&gt;</th><th scope=col>&lt;dbl&gt;</th></tr>\n",
       "</thead>\n",
       "<tbody>\n",
       "\t<tr><td>Pro    </td><td> TRUE</td><td>f6daba428a5e19a3d47574858c13550499be23603422e6a0ee9728f8b53e192d</td><td>30.3</td><td>Morgan   </td><td>Male  </td><td> 9</td></tr>\n",
       "\t<tr><td>Veteran</td><td> TRUE</td><td>f3c813577c458ba0dfef80996f8f32c93b6e8af1fa939732842f2312358a88e9</td><td> 3.8</td><td>Christian</td><td>Male  </td><td>17</td></tr>\n",
       "\t<tr><td>Veteran</td><td>FALSE</td><td>b674dd7ee0d24096d1c019615ce4d12b20fcbff12d79d3c5a9d2118eb7ccbb28</td><td> 0.0</td><td>Blake    </td><td>Male  </td><td>17</td></tr>\n",
       "\t<tr><td>Amateur</td><td> TRUE</td><td>23fe711e0e3b77f1da7aa221ab1192afe21648d47d2b4fa7a5a659ff443a0eb5</td><td> 0.7</td><td>Flora    </td><td>Female</td><td>21</td></tr>\n",
       "\t<tr><td>Regular</td><td> TRUE</td><td>7dc01f10bf20671ecfccdac23812b1b415acd42c2147cb0af4d48fcce2420f3e</td><td> 0.1</td><td>Kylie    </td><td>Male  </td><td>21</td></tr>\n",
       "\t<tr><td>Amateur</td><td> TRUE</td><td>f58aad5996a435f16b0284a3b267f973f9af99e7a89bee0430055a44fa92f977</td><td> 0.0</td><td>Adrian   </td><td>Female</td><td>17</td></tr>\n",
       "</tbody>\n",
       "</table>\n"
      ],
      "text/latex": [
       "A tibble: 6 × 7\n",
       "\\begin{tabular}{lllllll}\n",
       " experience & subscribe & hashedEmail & played\\_hours & name & gender & Age\\\\\n",
       " <chr> & <lgl> & <chr> & <dbl> & <chr> & <chr> & <dbl>\\\\\n",
       "\\hline\n",
       "\t Pro     &  TRUE & f6daba428a5e19a3d47574858c13550499be23603422e6a0ee9728f8b53e192d & 30.3 & Morgan    & Male   &  9\\\\\n",
       "\t Veteran &  TRUE & f3c813577c458ba0dfef80996f8f32c93b6e8af1fa939732842f2312358a88e9 &  3.8 & Christian & Male   & 17\\\\\n",
       "\t Veteran & FALSE & b674dd7ee0d24096d1c019615ce4d12b20fcbff12d79d3c5a9d2118eb7ccbb28 &  0.0 & Blake     & Male   & 17\\\\\n",
       "\t Amateur &  TRUE & 23fe711e0e3b77f1da7aa221ab1192afe21648d47d2b4fa7a5a659ff443a0eb5 &  0.7 & Flora     & Female & 21\\\\\n",
       "\t Regular &  TRUE & 7dc01f10bf20671ecfccdac23812b1b415acd42c2147cb0af4d48fcce2420f3e &  0.1 & Kylie     & Male   & 21\\\\\n",
       "\t Amateur &  TRUE & f58aad5996a435f16b0284a3b267f973f9af99e7a89bee0430055a44fa92f977 &  0.0 & Adrian    & Female & 17\\\\\n",
       "\\end{tabular}\n"
      ],
      "text/markdown": [
       "\n",
       "A tibble: 6 × 7\n",
       "\n",
       "| experience &lt;chr&gt; | subscribe &lt;lgl&gt; | hashedEmail &lt;chr&gt; | played_hours &lt;dbl&gt; | name &lt;chr&gt; | gender &lt;chr&gt; | Age &lt;dbl&gt; |\n",
       "|---|---|---|---|---|---|---|\n",
       "| Pro     |  TRUE | f6daba428a5e19a3d47574858c13550499be23603422e6a0ee9728f8b53e192d | 30.3 | Morgan    | Male   |  9 |\n",
       "| Veteran |  TRUE | f3c813577c458ba0dfef80996f8f32c93b6e8af1fa939732842f2312358a88e9 |  3.8 | Christian | Male   | 17 |\n",
       "| Veteran | FALSE | b674dd7ee0d24096d1c019615ce4d12b20fcbff12d79d3c5a9d2118eb7ccbb28 |  0.0 | Blake     | Male   | 17 |\n",
       "| Amateur |  TRUE | 23fe711e0e3b77f1da7aa221ab1192afe21648d47d2b4fa7a5a659ff443a0eb5 |  0.7 | Flora     | Female | 21 |\n",
       "| Regular |  TRUE | 7dc01f10bf20671ecfccdac23812b1b415acd42c2147cb0af4d48fcce2420f3e |  0.1 | Kylie     | Male   | 21 |\n",
       "| Amateur |  TRUE | f58aad5996a435f16b0284a3b267f973f9af99e7a89bee0430055a44fa92f977 |  0.0 | Adrian    | Female | 17 |\n",
       "\n"
      ],
      "text/plain": [
       "  experience subscribe\n",
       "1 Pro         TRUE    \n",
       "2 Veteran     TRUE    \n",
       "3 Veteran    FALSE    \n",
       "4 Amateur     TRUE    \n",
       "5 Regular     TRUE    \n",
       "6 Amateur     TRUE    \n",
       "  hashedEmail                                                      played_hours\n",
       "1 f6daba428a5e19a3d47574858c13550499be23603422e6a0ee9728f8b53e192d 30.3        \n",
       "2 f3c813577c458ba0dfef80996f8f32c93b6e8af1fa939732842f2312358a88e9  3.8        \n",
       "3 b674dd7ee0d24096d1c019615ce4d12b20fcbff12d79d3c5a9d2118eb7ccbb28  0.0        \n",
       "4 23fe711e0e3b77f1da7aa221ab1192afe21648d47d2b4fa7a5a659ff443a0eb5  0.7        \n",
       "5 7dc01f10bf20671ecfccdac23812b1b415acd42c2147cb0af4d48fcce2420f3e  0.1        \n",
       "6 f58aad5996a435f16b0284a3b267f973f9af99e7a89bee0430055a44fa92f977  0.0        \n",
       "  name      gender Age\n",
       "1 Morgan    Male    9 \n",
       "2 Christian Male   17 \n",
       "3 Blake     Male   17 \n",
       "4 Flora     Female 21 \n",
       "5 Kylie     Male   21 \n",
       "6 Adrian    Female 17 "
      ]
     },
     "metadata": {},
     "output_type": "display_data"
    },
    {
     "data": {
      "text/html": [
       "<table class=\"dataframe\">\n",
       "<caption>A tibble: 6 × 5</caption>\n",
       "<thead>\n",
       "\t<tr><th scope=col>hashedEmail</th><th scope=col>start_time</th><th scope=col>end_time</th><th scope=col>original_start_time</th><th scope=col>original_end_time</th></tr>\n",
       "\t<tr><th scope=col>&lt;chr&gt;</th><th scope=col>&lt;chr&gt;</th><th scope=col>&lt;chr&gt;</th><th scope=col>&lt;dbl&gt;</th><th scope=col>&lt;dbl&gt;</th></tr>\n",
       "</thead>\n",
       "<tbody>\n",
       "\t<tr><td>bfce39c89d6549f2bb94d8064d3ce69dc3d7e72b38f431d8aa0c4bf95ccee6bf</td><td>30/06/2024 18:12</td><td>30/06/2024 18:24</td><td>1.71977e+12</td><td>1.71977e+12</td></tr>\n",
       "\t<tr><td>36d9cbb4c6bc0c1a6911436d2da0d09ec625e43e6552f575d4acc9cf487c4686</td><td>17/06/2024 23:33</td><td>17/06/2024 23:46</td><td>1.71867e+12</td><td>1.71867e+12</td></tr>\n",
       "\t<tr><td>f8f5477f5a2e53616ae37421b1c660b971192bd8ff77e3398304c7ae42581fdc</td><td>25/07/2024 17:34</td><td>25/07/2024 17:57</td><td>1.72193e+12</td><td>1.72193e+12</td></tr>\n",
       "\t<tr><td>bfce39c89d6549f2bb94d8064d3ce69dc3d7e72b38f431d8aa0c4bf95ccee6bf</td><td>25/07/2024 03:22</td><td>25/07/2024 03:58</td><td>1.72188e+12</td><td>1.72188e+12</td></tr>\n",
       "\t<tr><td>36d9cbb4c6bc0c1a6911436d2da0d09ec625e43e6552f575d4acc9cf487c4686</td><td>25/05/2024 16:01</td><td>25/05/2024 16:12</td><td>1.71665e+12</td><td>1.71665e+12</td></tr>\n",
       "\t<tr><td>bfce39c89d6549f2bb94d8064d3ce69dc3d7e72b38f431d8aa0c4bf95ccee6bf</td><td>23/06/2024 15:08</td><td>23/06/2024 17:10</td><td>1.71916e+12</td><td>1.71916e+12</td></tr>\n",
       "</tbody>\n",
       "</table>\n"
      ],
      "text/latex": [
       "A tibble: 6 × 5\n",
       "\\begin{tabular}{lllll}\n",
       " hashedEmail & start\\_time & end\\_time & original\\_start\\_time & original\\_end\\_time\\\\\n",
       " <chr> & <chr> & <chr> & <dbl> & <dbl>\\\\\n",
       "\\hline\n",
       "\t bfce39c89d6549f2bb94d8064d3ce69dc3d7e72b38f431d8aa0c4bf95ccee6bf & 30/06/2024 18:12 & 30/06/2024 18:24 & 1.71977e+12 & 1.71977e+12\\\\\n",
       "\t 36d9cbb4c6bc0c1a6911436d2da0d09ec625e43e6552f575d4acc9cf487c4686 & 17/06/2024 23:33 & 17/06/2024 23:46 & 1.71867e+12 & 1.71867e+12\\\\\n",
       "\t f8f5477f5a2e53616ae37421b1c660b971192bd8ff77e3398304c7ae42581fdc & 25/07/2024 17:34 & 25/07/2024 17:57 & 1.72193e+12 & 1.72193e+12\\\\\n",
       "\t bfce39c89d6549f2bb94d8064d3ce69dc3d7e72b38f431d8aa0c4bf95ccee6bf & 25/07/2024 03:22 & 25/07/2024 03:58 & 1.72188e+12 & 1.72188e+12\\\\\n",
       "\t 36d9cbb4c6bc0c1a6911436d2da0d09ec625e43e6552f575d4acc9cf487c4686 & 25/05/2024 16:01 & 25/05/2024 16:12 & 1.71665e+12 & 1.71665e+12\\\\\n",
       "\t bfce39c89d6549f2bb94d8064d3ce69dc3d7e72b38f431d8aa0c4bf95ccee6bf & 23/06/2024 15:08 & 23/06/2024 17:10 & 1.71916e+12 & 1.71916e+12\\\\\n",
       "\\end{tabular}\n"
      ],
      "text/markdown": [
       "\n",
       "A tibble: 6 × 5\n",
       "\n",
       "| hashedEmail &lt;chr&gt; | start_time &lt;chr&gt; | end_time &lt;chr&gt; | original_start_time &lt;dbl&gt; | original_end_time &lt;dbl&gt; |\n",
       "|---|---|---|---|---|\n",
       "| bfce39c89d6549f2bb94d8064d3ce69dc3d7e72b38f431d8aa0c4bf95ccee6bf | 30/06/2024 18:12 | 30/06/2024 18:24 | 1.71977e+12 | 1.71977e+12 |\n",
       "| 36d9cbb4c6bc0c1a6911436d2da0d09ec625e43e6552f575d4acc9cf487c4686 | 17/06/2024 23:33 | 17/06/2024 23:46 | 1.71867e+12 | 1.71867e+12 |\n",
       "| f8f5477f5a2e53616ae37421b1c660b971192bd8ff77e3398304c7ae42581fdc | 25/07/2024 17:34 | 25/07/2024 17:57 | 1.72193e+12 | 1.72193e+12 |\n",
       "| bfce39c89d6549f2bb94d8064d3ce69dc3d7e72b38f431d8aa0c4bf95ccee6bf | 25/07/2024 03:22 | 25/07/2024 03:58 | 1.72188e+12 | 1.72188e+12 |\n",
       "| 36d9cbb4c6bc0c1a6911436d2da0d09ec625e43e6552f575d4acc9cf487c4686 | 25/05/2024 16:01 | 25/05/2024 16:12 | 1.71665e+12 | 1.71665e+12 |\n",
       "| bfce39c89d6549f2bb94d8064d3ce69dc3d7e72b38f431d8aa0c4bf95ccee6bf | 23/06/2024 15:08 | 23/06/2024 17:10 | 1.71916e+12 | 1.71916e+12 |\n",
       "\n"
      ],
      "text/plain": [
       "  hashedEmail                                                     \n",
       "1 bfce39c89d6549f2bb94d8064d3ce69dc3d7e72b38f431d8aa0c4bf95ccee6bf\n",
       "2 36d9cbb4c6bc0c1a6911436d2da0d09ec625e43e6552f575d4acc9cf487c4686\n",
       "3 f8f5477f5a2e53616ae37421b1c660b971192bd8ff77e3398304c7ae42581fdc\n",
       "4 bfce39c89d6549f2bb94d8064d3ce69dc3d7e72b38f431d8aa0c4bf95ccee6bf\n",
       "5 36d9cbb4c6bc0c1a6911436d2da0d09ec625e43e6552f575d4acc9cf487c4686\n",
       "6 bfce39c89d6549f2bb94d8064d3ce69dc3d7e72b38f431d8aa0c4bf95ccee6bf\n",
       "  start_time       end_time         original_start_time original_end_time\n",
       "1 30/06/2024 18:12 30/06/2024 18:24 1.71977e+12         1.71977e+12      \n",
       "2 17/06/2024 23:33 17/06/2024 23:46 1.71867e+12         1.71867e+12      \n",
       "3 25/07/2024 17:34 25/07/2024 17:57 1.72193e+12         1.72193e+12      \n",
       "4 25/07/2024 03:22 25/07/2024 03:58 1.72188e+12         1.72188e+12      \n",
       "5 25/05/2024 16:01 25/05/2024 16:12 1.71665e+12         1.71665e+12      \n",
       "6 23/06/2024 15:08 23/06/2024 17:10 1.71916e+12         1.71916e+12      "
      ]
     },
     "metadata": {},
     "output_type": "display_data"
    }
   ],
   "source": [
    "# load the dataframes\n",
    "players<- read_csv(\"https://raw.githubusercontent.com/ninzyt/dsci100-project-group37/refs/heads/main/players.csv\")\n",
    "sessions<- read_csv(\"https://raw.githubusercontent.com/ninzyt/dsci100-project-group37/refs/heads/main/sessions.csv\")\n",
    "head(players)\n",
    "head(sessions)"
   ]
  },
  {
   "cell_type": "markdown",
   "id": "4ae7980a-5c1e-415d-bcc3-4df1418e1351",
   "metadata": {},
   "source": [
    "#### Summary table of the data:\n",
    "| variable | type | meaning | # of missing observations | summary statistics (if applicable) | notes|\n",
    "|--|--|--|--|--|--|\n",
    "|`hashedEmail`|character|The hashed email address of the player for the play session (see `players` dataset summary)|0|N/A|This could be considered a factor type (despite being read in as character), since there is a limited number of values for this variable (i.e. the various hashed emails of  players from the `players` dataset). Accordingly, since this corresponds the `hashedEmail` variable in the `players` dataset, this  can be used to link information about each player to their sessions. |\n",
    "|`start_time`|character|The start time and date of the play session (using 24 hour time), in the format of: \"dd/mm/yyyy hour:min\"|0|N/A|This variable was read as a character type, however, during wrangling it can be converted to a date type (specifically dttm), which could be beneficial in analysis/visualization due to the inherent \"order\" of date data.|\n",
    "|`end_time`|character|The end time and date of the play session (using 24 hour time), in the format of: \"dd/mm/yyyy hour:min\"|2|N/A|\"|\n",
    "|`original_start_time`|double|The start time and date of the play session in Unix time, which is the number of non-leap seconds since midnight (UTC) of January 1, 1970|0|Max = 1.72733e+12, Min = 1.7124e+12, Mean = 1.719201e+12, Median = 1.7192e+12, Standard Deviation = 3557491589 |This represents the same information as the `start_time` variable, but using a different data type|\n",
    "|`original_end_time`|double|The end time and date of the play session in Unix time, which is the number of non-leap seconds since midnight (UTC) of January 1, 1970|2|Max = 1.72734e+12, Min = 1.7124e+12, Mean = 1.719196e+12, Median = 1.71918e+12, Standard Deviation = 3552813134|This represents the same information as the `end_time` variable, but using a different data type|\n",
    "\n",
    "\n",
    "**ISSUES:** \n",
    "- There are few visible issues, other than the 2 observations with missing data for both the `end_time` and `original_end_time` variable, which will need to be dealt with during later wrangling/processing.\n",
    "- This should not have the issues associated with self-reported participant data, since the data is recorded by the server.\n",
    "- However, since the `start_time` and `original_start_time` variables (same applies to the end time variables) contain the same information, only one is needed for each analysis, depending on needs. For example, visualizations may prefer the use of the `start_time` variable, but any modeling, etc. may benefit from the numerical format of `original_start_time`.\n"
   ]
  },
  {
   "cell_type": "markdown",
   "id": "19d7f698-77e1-4905-9c66-194db122cddd",
   "metadata": {},
   "source": [
    "### Method and Results"
   ]
  },
  {
   "cell_type": "code",
   "execution_count": 3,
   "id": "a9afca87-3371-4568-b1e5-512cc1a19f79",
   "metadata": {},
   "outputs": [
    {
     "data": {
      "text/html": [
       "<table class=\"dataframe\">\n",
       "<caption>A tibble: 6 × 7</caption>\n",
       "<thead>\n",
       "\t<tr><th scope=col>experience</th><th scope=col>subscribe</th><th scope=col>hashedEmail</th><th scope=col>played_hours</th><th scope=col>name</th><th scope=col>gender</th><th scope=col>Age</th></tr>\n",
       "\t<tr><th scope=col>&lt;chr&gt;</th><th scope=col>&lt;fct&gt;</th><th scope=col>&lt;chr&gt;</th><th scope=col>&lt;dbl&gt;</th><th scope=col>&lt;chr&gt;</th><th scope=col>&lt;chr&gt;</th><th scope=col>&lt;dbl&gt;</th></tr>\n",
       "</thead>\n",
       "<tbody>\n",
       "\t<tr><td>Pro    </td><td>TRUE </td><td>f6daba428a5e19a3d47574858c13550499be23603422e6a0ee9728f8b53e192d</td><td>30.3</td><td>Morgan   </td><td>Male  </td><td> 9</td></tr>\n",
       "\t<tr><td>Veteran</td><td>TRUE </td><td>f3c813577c458ba0dfef80996f8f32c93b6e8af1fa939732842f2312358a88e9</td><td> 3.8</td><td>Christian</td><td>Male  </td><td>17</td></tr>\n",
       "\t<tr><td>Veteran</td><td>FALSE</td><td>b674dd7ee0d24096d1c019615ce4d12b20fcbff12d79d3c5a9d2118eb7ccbb28</td><td> 0.0</td><td>Blake    </td><td>Male  </td><td>17</td></tr>\n",
       "\t<tr><td>Amateur</td><td>TRUE </td><td>23fe711e0e3b77f1da7aa221ab1192afe21648d47d2b4fa7a5a659ff443a0eb5</td><td> 0.7</td><td>Flora    </td><td>Female</td><td>21</td></tr>\n",
       "\t<tr><td>Regular</td><td>TRUE </td><td>7dc01f10bf20671ecfccdac23812b1b415acd42c2147cb0af4d48fcce2420f3e</td><td> 0.1</td><td>Kylie    </td><td>Male  </td><td>21</td></tr>\n",
       "\t<tr><td>Amateur</td><td>TRUE </td><td>f58aad5996a435f16b0284a3b267f973f9af99e7a89bee0430055a44fa92f977</td><td> 0.0</td><td>Adrian   </td><td>Female</td><td>17</td></tr>\n",
       "</tbody>\n",
       "</table>\n"
      ],
      "text/latex": [
       "A tibble: 6 × 7\n",
       "\\begin{tabular}{lllllll}\n",
       " experience & subscribe & hashedEmail & played\\_hours & name & gender & Age\\\\\n",
       " <chr> & <fct> & <chr> & <dbl> & <chr> & <chr> & <dbl>\\\\\n",
       "\\hline\n",
       "\t Pro     & TRUE  & f6daba428a5e19a3d47574858c13550499be23603422e6a0ee9728f8b53e192d & 30.3 & Morgan    & Male   &  9\\\\\n",
       "\t Veteran & TRUE  & f3c813577c458ba0dfef80996f8f32c93b6e8af1fa939732842f2312358a88e9 &  3.8 & Christian & Male   & 17\\\\\n",
       "\t Veteran & FALSE & b674dd7ee0d24096d1c019615ce4d12b20fcbff12d79d3c5a9d2118eb7ccbb28 &  0.0 & Blake     & Male   & 17\\\\\n",
       "\t Amateur & TRUE  & 23fe711e0e3b77f1da7aa221ab1192afe21648d47d2b4fa7a5a659ff443a0eb5 &  0.7 & Flora     & Female & 21\\\\\n",
       "\t Regular & TRUE  & 7dc01f10bf20671ecfccdac23812b1b415acd42c2147cb0af4d48fcce2420f3e &  0.1 & Kylie     & Male   & 21\\\\\n",
       "\t Amateur & TRUE  & f58aad5996a435f16b0284a3b267f973f9af99e7a89bee0430055a44fa92f977 &  0.0 & Adrian    & Female & 17\\\\\n",
       "\\end{tabular}\n"
      ],
      "text/markdown": [
       "\n",
       "A tibble: 6 × 7\n",
       "\n",
       "| experience &lt;chr&gt; | subscribe &lt;fct&gt; | hashedEmail &lt;chr&gt; | played_hours &lt;dbl&gt; | name &lt;chr&gt; | gender &lt;chr&gt; | Age &lt;dbl&gt; |\n",
       "|---|---|---|---|---|---|---|\n",
       "| Pro     | TRUE  | f6daba428a5e19a3d47574858c13550499be23603422e6a0ee9728f8b53e192d | 30.3 | Morgan    | Male   |  9 |\n",
       "| Veteran | TRUE  | f3c813577c458ba0dfef80996f8f32c93b6e8af1fa939732842f2312358a88e9 |  3.8 | Christian | Male   | 17 |\n",
       "| Veteran | FALSE | b674dd7ee0d24096d1c019615ce4d12b20fcbff12d79d3c5a9d2118eb7ccbb28 |  0.0 | Blake     | Male   | 17 |\n",
       "| Amateur | TRUE  | 23fe711e0e3b77f1da7aa221ab1192afe21648d47d2b4fa7a5a659ff443a0eb5 |  0.7 | Flora     | Female | 21 |\n",
       "| Regular | TRUE  | 7dc01f10bf20671ecfccdac23812b1b415acd42c2147cb0af4d48fcce2420f3e |  0.1 | Kylie     | Male   | 21 |\n",
       "| Amateur | TRUE  | f58aad5996a435f16b0284a3b267f973f9af99e7a89bee0430055a44fa92f977 |  0.0 | Adrian    | Female | 17 |\n",
       "\n"
      ],
      "text/plain": [
       "  experience subscribe\n",
       "1 Pro        TRUE     \n",
       "2 Veteran    TRUE     \n",
       "3 Veteran    FALSE    \n",
       "4 Amateur    TRUE     \n",
       "5 Regular    TRUE     \n",
       "6 Amateur    TRUE     \n",
       "  hashedEmail                                                      played_hours\n",
       "1 f6daba428a5e19a3d47574858c13550499be23603422e6a0ee9728f8b53e192d 30.3        \n",
       "2 f3c813577c458ba0dfef80996f8f32c93b6e8af1fa939732842f2312358a88e9  3.8        \n",
       "3 b674dd7ee0d24096d1c019615ce4d12b20fcbff12d79d3c5a9d2118eb7ccbb28  0.0        \n",
       "4 23fe711e0e3b77f1da7aa221ab1192afe21648d47d2b4fa7a5a659ff443a0eb5  0.7        \n",
       "5 7dc01f10bf20671ecfccdac23812b1b415acd42c2147cb0af4d48fcce2420f3e  0.1        \n",
       "6 f58aad5996a435f16b0284a3b267f973f9af99e7a89bee0430055a44fa92f977  0.0        \n",
       "  name      gender Age\n",
       "1 Morgan    Male    9 \n",
       "2 Christian Male   17 \n",
       "3 Blake     Male   17 \n",
       "4 Flora     Female 21 \n",
       "5 Kylie     Male   21 \n",
       "6 Adrian    Female 17 "
      ]
     },
     "metadata": {},
     "output_type": "display_data"
    }
   ],
   "source": [
    "# 1. Cleaning and wrangling players.csv \n",
    "players_cleaned <- players|>\n",
    "                   filter(!is.na(Age))|>\n",
    "                   mutate(subscribe = as.factor(subscribe))\n",
    "\n",
    "head(players_cleaned)"
   ]
  },
  {
   "cell_type": "code",
   "execution_count": 5,
   "id": "c7a1465f-f8f6-4de8-ae1b-95cca3e8eefe",
   "metadata": {},
   "outputs": [
    {
     "data": {
      "text/html": [
       "<table class=\"dataframe\">\n",
       "<caption>A tibble: 1 × 7</caption>\n",
       "<thead>\n",
       "\t<tr><th scope=col>min_played_hours</th><th scope=col>max_played_hours</th><th scope=col>average_played_hours</th><th scope=col>min_age</th><th scope=col>max_age</th><th scope=col>median_age</th><th scope=col>average_age</th></tr>\n",
       "\t<tr><th scope=col>&lt;dbl&gt;</th><th scope=col>&lt;dbl&gt;</th><th scope=col>&lt;dbl&gt;</th><th scope=col>&lt;dbl&gt;</th><th scope=col>&lt;dbl&gt;</th><th scope=col>&lt;dbl&gt;</th><th scope=col>&lt;dbl&gt;</th></tr>\n",
       "</thead>\n",
       "<tbody>\n",
       "\t<tr><td>0</td><td>223.1</td><td>5.904639</td><td>8</td><td>50</td><td>19</td><td>20.52062</td></tr>\n",
       "</tbody>\n",
       "</table>\n"
      ],
      "text/latex": [
       "A tibble: 1 × 7\n",
       "\\begin{tabular}{lllllll}\n",
       " min\\_played\\_hours & max\\_played\\_hours & average\\_played\\_hours & min\\_age & max\\_age & median\\_age & average\\_age\\\\\n",
       " <dbl> & <dbl> & <dbl> & <dbl> & <dbl> & <dbl> & <dbl>\\\\\n",
       "\\hline\n",
       "\t 0 & 223.1 & 5.904639 & 8 & 50 & 19 & 20.52062\\\\\n",
       "\\end{tabular}\n"
      ],
      "text/markdown": [
       "\n",
       "A tibble: 1 × 7\n",
       "\n",
       "| min_played_hours &lt;dbl&gt; | max_played_hours &lt;dbl&gt; | average_played_hours &lt;dbl&gt; | min_age &lt;dbl&gt; | max_age &lt;dbl&gt; | median_age &lt;dbl&gt; | average_age &lt;dbl&gt; |\n",
       "|---|---|---|---|---|---|---|\n",
       "| 0 | 223.1 | 5.904639 | 8 | 50 | 19 | 20.52062 |\n",
       "\n"
      ],
      "text/plain": [
       "  min_played_hours max_played_hours average_played_hours min_age max_age\n",
       "1 0                223.1            5.904639             8       50     \n",
       "  median_age average_age\n",
       "1 19         20.52062   "
      ]
     },
     "metadata": {},
     "output_type": "display_data"
    }
   ],
   "source": [
    "# 2. Summary statistics (mean values for each numerical variables)\n",
    "players_average <- players_cleaned |>\n",
    "                   summarize(min_played_hours = min(played_hours),\n",
    "                             max_played_hours = max(played_hours),\n",
    "                             average_played_hours = mean(played_hours),\n",
    "                             min_age = min(Age),\n",
    "                             max_age = max(Age),\n",
    "                             median_age = median(Age),\n",
    "                             average_age = mean(Age))\n",
    "players_average"
   ]
  },
  {
   "cell_type": "code",
   "execution_count": null,
   "id": "837bacca-ce24-4f64-b9f6-dc269c0528c0",
   "metadata": {},
   "outputs": [],
   "source": [
    "# 3. splitting dataframe into training, testing datasets\n",
    "set.seed(1)\n",
    "players_split <- initial_split(players_cleaned, prop = 0.75, strata = subscribe)\n",
    "\n",
    "players_training <- training(players_split)\n",
    "players_testing <- testing(players_split)"
   ]
  },
  {
   "cell_type": "code",
   "execution_count": null,
   "id": "6b29af22-9043-4a90-b7a0-8d8e7b983160",
   "metadata": {},
   "outputs": [],
   "source": [
    "# 4. Exploratory visualizations\n",
    "# a) finding relationships for the Age predictor:\n",
    "options(repr.plot.width = 8, repr.plot.height = 8)\n",
    "Age_boxplot <- ggplot(players_training, aes(x = subscribe, y = Age, fill = subscribe)) +\n",
    "               geom_boxplot() +\n",
    "               labs(x= \"Subscription Status\", y= \"Age of Player\", fill = \"Subscription\\nStatus\", title = \"Age vs. Subscription Status\")+\n",
    "               theme(text = element_text(size = 15))\n",
    "Age_boxplot"
   ]
  },
  {
   "cell_type": "code",
   "execution_count": null,
   "id": "eebd69da-cc20-464f-b462-4f19e0969db7",
   "metadata": {},
   "outputs": [],
   "source": [
    "# b) finding relationships for the played_hours predictor:\n",
    "options(repr.plot.width = 8, repr.plot.height = 8)\n",
    "played_hours_boxplot <- ggplot(players_training, aes(x = subscribe, y = played_hours, fill = subscribe)) +\n",
    "                        geom_boxplot() +\n",
    "                        scale_y_log10(labels=label_comma())+\n",
    "                        labs(x = \"Subscription Status\", y = \"Game Played Hours\", fill = \"Subscription\\nStatus\", title = \"played hours vs. Subscription Status\")+\n",
    "                        theme(text = element_text(size = 15))\n",
    "played_hours_boxplot"
   ]
  },
  {
   "cell_type": "code",
   "execution_count": null,
   "id": "c3250828-243b-4241-bf2f-e79ebbfadefb",
   "metadata": {},
   "outputs": [],
   "source": [
    "# 5. Preparing the recipe using only the training data. The data is standardized and upsampled to resolve data imbalance issues. \n",
    "players_recipe<- recipe(subscribe~Age+played_hours, data=players_training)|>\n",
    "step_scale(all_predictors())|>\n",
    "step_center(all_predictors()) |>\n",
    "step_upsample(subscribe, over_ratio = 1)"
   ]
  },
  {
   "cell_type": "code",
   "execution_count": null,
   "id": "eb3a3126-433f-4a05-93ab-7bf98569ce27",
   "metadata": {},
   "outputs": [],
   "source": [
    "# 6. a) Cross-validation and Parameter (K) Value Selection\n",
    "players_vfold<- vfold_cv(players_training, v=5, strata=subscribe)\n",
    "players_spec_tune<- nearest_neighbor(weight_func=\"rectangular\", neighbors=tune())|>\n",
    "set_engine(\"kknn\")|>\n",
    "set_mode(\"classification\")\n",
    "\n",
    "k_vals<- tibble(neighbors=seq(from=1, to=100, by=1))\n",
    "\n",
    "player_tune_results<- workflow()|>\n",
    "add_recipe(players_recipe)|>\n",
    "add_model(players_spec_tune)|>\n",
    "tune_grid(resamples=players_vfold, grid=k_vals)|>\n",
    "collect_metrics()\n",
    "\n",
    "accuracy<- player_tune_results|>\n",
    "filter(.metric==\"accuracy\")"
   ]
  },
  {
   "cell_type": "code",
   "execution_count": null,
   "id": "896185f1-896e-4899-bdce-dd5e1cdaabbc",
   "metadata": {},
   "outputs": [],
   "source": [
    "# 6. b) Best K value visualization and determination \n",
    "accuracy_vis_k<- ggplot(accuracy, aes(x=neighbors, y=mean))+\n",
    "geom_point()+\n",
    "geom_line()\n",
    "accuracy_vis_k\n",
    "\n",
    "best_k_val<- filter(accuracy, mean==max(mean)) |>\n",
    "filter(neighbors == min(neighbors))|>\n",
    "pull(neighbors)\n",
    "best_k_val"
   ]
  },
  {
   "cell_type": "code",
   "execution_count": null,
   "id": "e6296680-1ed3-4cb9-904b-dd6842ee6afe",
   "metadata": {},
   "outputs": [],
   "source": [
    "# 7. a) Evaluate the tuned classifier on the testing data.\n",
    "test_try_spec<- nearest_neighbor(weight_func = \"rectangular\", neighbors=19)|>\n",
    "set_engine(\"kknn\")|>\n",
    "set_mode(\"classification\")\n",
    "\n",
    "test_fit<- workflow() |>\n",
    "  add_recipe(recipe) |>\n",
    "  add_model(test_try_spec) |>\n",
    "  fit(data = players_training)\n",
    "\n",
    "test_predictions <- predict(test_fit, players_testing) |>\n",
    "  bind_cols(players_testing)"
   ]
  },
  {
   "cell_type": "code",
   "execution_count": null,
   "id": "40f82083-d3bc-4686-b27b-dfc72cb1c37d",
   "metadata": {},
   "outputs": [],
   "source": [
    "# 7. b) Assessing the estimated accuracy, precision and recall, and print a confusion matrix.\n",
    "test_predictions |>\n",
    "  metrics(truth = subscribe, estimate = .pred_class) |>\n",
    "  filter(.metric == \"accuracy\")\n",
    "\n",
    "test_predictions |>\n",
    "    precision(truth = subscribe, estimate = .pred_class, event_level=\"first\")\n",
    "\n",
    "test_predictions |>\n",
    "    recall(truth = subscribe, estimate = .pred_class, event_level=\"first\")\n",
    "test_predictions\n",
    "\n",
    "confusion <- test_predictions |>\n",
    "             conf_mat(truth = subscribe, estimate = .pred_class)\n",
    "confusion"
   ]
  },
  {
   "cell_type": "code",
   "execution_count": null,
   "id": "9742549c-5c35-47ca-9738-edf4f7b4b3ef",
   "metadata": {},
   "outputs": [],
   "source": []
  }
 ],
 "metadata": {
  "kernelspec": {
   "display_name": "R",
   "language": "R",
   "name": "ir"
  },
  "language_info": {
   "codemirror_mode": "r",
   "file_extension": ".r",
   "mimetype": "text/x-r-source",
   "name": "R",
   "pygments_lexer": "r",
   "version": "4.3.3"
  }
 },
 "nbformat": 4,
 "nbformat_minor": 5
}
