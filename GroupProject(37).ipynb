{
 "cells": [
  {
   "cell_type": "markdown",
   "id": "8e5b4902-403c-4ea7-b05b-c4361b651e4b",
   "metadata": {},
   "source": [
    "# Data Science 100 Final Project Report"
   ]
  },
  {
   "cell_type": "code",
   "execution_count": null,
   "id": "d47a4e34-e2ce-4801-990e-9dfc1c646f2a",
   "metadata": {},
   "outputs": [],
   "source": []
  }
 ],
 "metadata": {
  "kernelspec": {
   "display_name": "R",
   "language": "R",
   "name": "ir"
  },
  "language_info": {
   "codemirror_mode": "r",
   "file_extension": ".r",
   "mimetype": "text/x-r-source",
   "name": "R",
   "pygments_lexer": "r",
   "version": "4.3.3"
  }
 },
 "nbformat": 4,
 "nbformat_minor": 5
}
