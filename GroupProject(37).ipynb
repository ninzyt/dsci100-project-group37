{
 "cells": [
  {
   "cell_type": "markdown",
   "id": "8e5b4902-403c-4ea7-b05b-c4361b651e4b",
   "metadata": {},
   "source": [
    "# Data Science 100 Final Project Report"
   ]
  },
  {
   "cell_type": "code",
   "execution_count": 1,
   "id": "d47a4e34-e2ce-4801-990e-9dfc1c646f2a",
   "metadata": {},
   "outputs": [
    {
     "name": "stderr",
     "output_type": "stream",
     "text": [
      "── \u001b[1mAttaching core tidyverse packages\u001b[22m ──────────────────────── tidyverse 2.0.0 ──\n",
      "\u001b[32m✔\u001b[39m \u001b[34mdplyr    \u001b[39m 1.1.4     \u001b[32m✔\u001b[39m \u001b[34mreadr    \u001b[39m 2.1.5\n",
      "\u001b[32m✔\u001b[39m \u001b[34mforcats  \u001b[39m 1.0.0     \u001b[32m✔\u001b[39m \u001b[34mstringr  \u001b[39m 1.5.1\n",
      "\u001b[32m✔\u001b[39m \u001b[34mggplot2  \u001b[39m 3.5.1     \u001b[32m✔\u001b[39m \u001b[34mtibble   \u001b[39m 3.2.1\n",
      "\u001b[32m✔\u001b[39m \u001b[34mlubridate\u001b[39m 1.9.3     \u001b[32m✔\u001b[39m \u001b[34mtidyr    \u001b[39m 1.3.1\n",
      "\u001b[32m✔\u001b[39m \u001b[34mpurrr    \u001b[39m 1.0.2     \n",
      "── \u001b[1mConflicts\u001b[22m ────────────────────────────────────────── tidyverse_conflicts() ──\n",
      "\u001b[31m✖\u001b[39m \u001b[34mdplyr\u001b[39m::\u001b[32mfilter()\u001b[39m masks \u001b[34mstats\u001b[39m::filter()\n",
      "\u001b[31m✖\u001b[39m \u001b[34mdplyr\u001b[39m::\u001b[32mlag()\u001b[39m    masks \u001b[34mstats\u001b[39m::lag()\n",
      "\u001b[36mℹ\u001b[39m Use the conflicted package (\u001b[3m\u001b[34m<http://conflicted.r-lib.org/>\u001b[39m\u001b[23m) to force all conflicts to become errors\n",
      "── \u001b[1mAttaching packages\u001b[22m ────────────────────────────────────── tidymodels 1.1.1 ──\n",
      "\n",
      "\u001b[32m✔\u001b[39m \u001b[34mbroom       \u001b[39m 1.0.6     \u001b[32m✔\u001b[39m \u001b[34mrsample     \u001b[39m 1.2.1\n",
      "\u001b[32m✔\u001b[39m \u001b[34mdials       \u001b[39m 1.3.0     \u001b[32m✔\u001b[39m \u001b[34mtune        \u001b[39m 1.1.2\n",
      "\u001b[32m✔\u001b[39m \u001b[34minfer       \u001b[39m 1.0.7     \u001b[32m✔\u001b[39m \u001b[34mworkflows   \u001b[39m 1.1.4\n",
      "\u001b[32m✔\u001b[39m \u001b[34mmodeldata   \u001b[39m 1.4.0     \u001b[32m✔\u001b[39m \u001b[34mworkflowsets\u001b[39m 1.0.1\n",
      "\u001b[32m✔\u001b[39m \u001b[34mparsnip     \u001b[39m 1.2.1     \u001b[32m✔\u001b[39m \u001b[34myardstick   \u001b[39m 1.3.1\n",
      "\u001b[32m✔\u001b[39m \u001b[34mrecipes     \u001b[39m 1.1.0     \n",
      "\n",
      "── \u001b[1mConflicts\u001b[22m ───────────────────────────────────────── tidymodels_conflicts() ──\n",
      "\u001b[31m✖\u001b[39m \u001b[34mscales\u001b[39m::\u001b[32mdiscard()\u001b[39m masks \u001b[34mpurrr\u001b[39m::discard()\n",
      "\u001b[31m✖\u001b[39m \u001b[34mdplyr\u001b[39m::\u001b[32mfilter()\u001b[39m   masks \u001b[34mstats\u001b[39m::filter()\n",
      "\u001b[31m✖\u001b[39m \u001b[34mrecipes\u001b[39m::\u001b[32mfixed()\u001b[39m  masks \u001b[34mstringr\u001b[39m::fixed()\n",
      "\u001b[31m✖\u001b[39m \u001b[34mdplyr\u001b[39m::\u001b[32mlag()\u001b[39m      masks \u001b[34mstats\u001b[39m::lag()\n",
      "\u001b[31m✖\u001b[39m \u001b[34myardstick\u001b[39m::\u001b[32mspec()\u001b[39m masks \u001b[34mreadr\u001b[39m::spec()\n",
      "\u001b[31m✖\u001b[39m \u001b[34mrecipes\u001b[39m::\u001b[32mstep()\u001b[39m   masks \u001b[34mstats\u001b[39m::step()\n",
      "\u001b[34m•\u001b[39m Learn how to get started at \u001b[32mhttps://www.tidymodels.org/start/\u001b[39m\n",
      "\n"
     ]
    }
   ],
   "source": [
    "#Loading the relevant R package:\n",
    "library(tidyverse)\n",
    "library(tidymodels)\n",
    "library(repr)\n",
    "library(themis)"
   ]
  },
  {
   "cell_type": "markdown",
   "id": "19d7f698-77e1-4905-9c66-194db122cddd",
   "metadata": {},
   "source": [
    "### Method and Results"
   ]
  },
  {
   "cell_type": "code",
   "execution_count": null,
   "id": "a9afca87-3371-4568-b1e5-512cc1a19f79",
   "metadata": {},
   "outputs": [],
   "source": [
    "# 1. Cleaning and wrangling players.csv \n",
    "players_cleaned <- players|>\n",
    "                   filter(!is.na(Age))|>\n",
    "                   mutate(subscribe = as.factor(subscribe))\n",
    "\n",
    "players_cleaned"
   ]
  },
  {
   "cell_type": "code",
   "execution_count": null,
   "id": "c7a1465f-f8f6-4de8-ae1b-95cca3e8eefe",
   "metadata": {},
   "outputs": [],
   "source": [
    "# 2. Summary statistics (mean values for each numerical variables)\n",
    "players_average <- players_cleaned |>\n",
    "                   summarize(average_played_hours = mean(played_hours), average_age = mean(Age))\n",
    "players_average"
   ]
  },
  {
   "cell_type": "code",
   "execution_count": null,
   "id": "837bacca-ce24-4f64-b9f6-dc269c0528c0",
   "metadata": {},
   "outputs": [],
   "source": [
    "# 3. splitting dataframe into training, testing datasets\n",
    "set.seed(1)\n",
    "players_split <- initial_split(players_cleaned, prop = 0.75, strata = subscribe)\n",
    "\n",
    "players_training <- training(players_split)\n",
    "players_testing <- testing(players_split)\n",
    "\n",
    "spec<- nearest_neighbor(weight_func=\"rectangular\", neighbors=tune())|>\n",
    "set_engine(\"kknn\")|>\n",
    "set_mode(\"classification\")\n",
    "\n",
    "recipe<- recipe(subscribe~Age+played_hours, data=players_training)|>\n",
    "step_scale(all_predictors())|>\n",
    "step_center(all_predictors()) |>\n",
    "step_upsample(subscribe, over_ratio = 1)\n",
    "\n",
    "k<- tibble(neighbors=seq(from=1, to=100, by=1))\n",
    "vfold<- vfold_cv(players_training, v=5, strata=subscribe)\n",
    "\n",
    "workflow<- workflow()|>\n",
    "add_recipe(recipe)|>\n",
    "add_model(spec)|>\n",
    "tune_grid(resamples=vfold, grid=k)|>\n",
    "collect_metrics()\n",
    "accuracy<-workflow|>\n",
    "filter(.metric==\"accuracy\")\n",
    "accuracy\n",
    "best<- filter(accuracy, mean==max(mean)) |>\n",
    "filter(neighbors = min(neighbors)) |>\n",
    "\n",
    "best"
   ]
  },
  {
   "cell_type": "code",
   "execution_count": null,
   "id": "3e7ec6eb-3ed1-45b7-b29d-1a8753561b06",
   "metadata": {},
   "outputs": [],
   "source": [
    "ggplot_accuracy<- ggplot(accuracy, aes(x=neighbors, y=mean))+\n",
    "geom_point()+\n",
    "geom_line()\n",
    "ggplot_accuracy"
   ]
  },
  {
   "cell_type": "code",
   "execution_count": null,
   "id": "e6296680-1ed3-4cb9-904b-dd6842ee6afe",
   "metadata": {},
   "outputs": [],
   "source": [
    "test_try_spec<- nearest_neighbor(weight_func = \"rectangular\", neighbors=19)|>\n",
    "set_engine(\"kknn\")|>\n",
    "set_mode(\"classification\")\n",
    "\n",
    "test_fit<- workflow() |>\n",
    "  add_recipe(recipe) |>\n",
    "  add_model(test_try_spec) |>\n",
    "  fit(data = players_training)\n",
    "\n",
    "test_predictions <- predict(test_fit, players_testing) |>\n",
    "  bind_cols(players_testing)\n",
    "\n",
    "test_predictions |>\n",
    "  metrics(truth = subscribe, estimate = .pred_class) |>\n",
    "  filter(.metric == \"accuracy\")\n",
    "\n",
    "test_predictions |>\n",
    "    precision(truth = subscribe, estimate = .pred_class, event_level=\"first\")\n",
    "\n",
    "test_predictions |>\n",
    "    recall(truth = subscribe, estimate = .pred_class, event_level=\"first\")\n",
    "test_predictions\n",
    "\n",
    "confusion <- test_predictions |>\n",
    "             conf_mat(truth = subscribe, estimate = .pred_class)\n",
    "confusion"
   ]
  },
  {
   "cell_type": "code",
   "execution_count": null,
   "id": "5d344125-06b8-4e7e-8144-0e43b8848024",
   "metadata": {},
   "outputs": [],
   "source": [
    "# 4. Exploratory visualizations\n",
    "# a) finding relationships for the Age predictor:\n",
    "options(repr.plot.width = 8, repr.plot.height = 8)\n",
    "Age_boxplot <- ggplot(players_training, aes(x = subscribe, y = Age, fill = subscribe)) +\n",
    "               geom_boxplot() +\n",
    "               labs(x= \"Subscription Status\", y= \"Age of Player\", fill = \"Subscription\\nStatus\", title = \"Age vs. Subscription Status\")+\n",
    "               theme(text = element_text(size = 15))\n",
    "Age_boxplot"
   ]
  },
  {
   "cell_type": "code",
   "execution_count": null,
   "id": "e21c2c7c-d99b-4d42-8a51-a1993237c0fa",
   "metadata": {},
   "outputs": [],
   "source": [
    "options(repr.plot.width = 12, repr.plot.height = 8)\n",
    "Age_histogram <- ggplot(players_training, aes(x = Age, fill = subscribe)) +\n",
    "                 geom_histogram() +\n",
    "                 facet_grid(cols = vars(subscribe))+\n",
    "                 labs(x = \"Age Distribution\", y = \"Subscription Count\", fill = \"Subscription\\nStatus\", title = \"Age Distribution by Subscription Status\")+\n",
    "                 theme(text = element_text(size = 15))\n",
    "Age_histogram"
   ]
  },
  {
   "cell_type": "code",
   "execution_count": null,
   "id": "9742549c-5c35-47ca-9738-edf4f7b4b3ef",
   "metadata": {},
   "outputs": [],
   "source": [
    "# b) finding relationships for the played_hours predictor:\n",
    "options(repr.plot.width = 10, repr.plot.height = 8)\n",
    "played_hours_boxplot <- ggplot(players_training, aes(x = subscribe, y = played_hours, fill = subscribe)) +\n",
    "                        geom_boxplot() +\n",
    "                        scale_y_log10(labels=label_comma())+\n",
    "                        labs(x = \"Subscription Status\", y = \"Game Played Hours\", fill = \"Subscription\\nStatus\", title = \"played hours vs. Subscription Status\")+\n",
    "                        theme(text = element_text(size = 15))\n",
    "played_hours_boxplot"
   ]
  }
 ],
 "metadata": {
  "kernelspec": {
   "display_name": "R",
   "language": "R",
   "name": "ir"
  },
  "language_info": {
   "codemirror_mode": "r",
   "file_extension": ".r",
   "mimetype": "text/x-r-source",
   "name": "R",
   "pygments_lexer": "r",
   "version": "4.3.3"
  }
 },
 "nbformat": 4,
 "nbformat_minor": 5
}
